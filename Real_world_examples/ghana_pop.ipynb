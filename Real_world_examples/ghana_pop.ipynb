{
 "cells": [
  {
   "cell_type": "markdown",
   "metadata": {},
   "source": [
    "## Description\n",
    "This notebook demonstrates how to access global population grids and calculate the population for a given area for a given time.\n",
    "\n",
    "If you don't have accurate population data, you can use these grids as an estimate.\n",
    "\n",
    "The grids are found here: https://www.worldpop.org/geodata/listing?id=69\n",
    "\n",
    "Estimated total number of people per grid-cell. The dataset is available to download in Geotiff format at a resolution of 3 arc (approximately 100m at the equator). The projection is Geographic Coordinate System, WGS84. The units are number of people per pixel with country totals adjusted to match the corresponding official United Nations population estimates that have been prepared by the Population Division of the Department of Economic and Social Affairs of the United Nations Secretariat (2019 Revision of World Population Prospects). The mapping approach is Random Forest-based dasymetric redistribution.\n",
    "\n",
    "Region : Ghana\n",
    "\n",
    "DOI : 10.5258/SOTON/WP00660\n",
    "\n",
    "Date of production : 2020-02-01\n",
    "\n",
    "WorldPop (www.worldpop.org - School of Geography and Environmental Science, University of Southampton; Department of Geography and Geosciences, University of Louisville; Departement de Geographie, Universite de Namur) and Center for International Earth Science Information Network (CIESIN), Columbia University (2018). Global High Resolution Population Denominators Project - Funded by The Bill and Melinda Gates Foundation (OPP1134076). https://dx.doi.org/10.5258/SOTON/WP00660\n",
    "\n"
   ]
  },
  {
   "cell_type": "code",
   "execution_count": 1,
   "metadata": {},
   "outputs": [],
   "source": [
    "import rasterio\n",
    "from rasterio.mask import mask\n",
    "from shapely.geometry import box\n",
    "import geopandas as gpd\n",
    "from fiona.crs import from_epsg"
   ]
  },
  {
   "cell_type": "code",
   "execution_count": 2,
   "metadata": {},
   "outputs": [],
   "source": [
    "def getFeatures(gdf):\n",
    "    \"\"\"Function to convert features from GeoDataFrame in such a manner that rasterio wants them\"\"\"\n",
    "    import json\n",
    "    return [json.loads(gdf.to_json())['features'][0]['geometry']]"
   ]
  },
  {
   "cell_type": "code",
   "execution_count": 3,
   "metadata": {},
   "outputs": [
    {
     "name": "stdout",
     "output_type": "stream",
     "text": [
      "[{'type': 'Polygon', 'coordinates': [[[-1.35, 6.801], [-1.35, 6.893], [-1.44, 6.893], [-1.44, 6.801], [-1.35, 6.801]]]}]\n"
     ]
    }
   ],
   "source": [
    "#specify your area of interest\n",
    "\n",
    "latitude = (6.801, 6.893)\n",
    "longitude = (-1.440, -1.350)\n",
    "\n",
    "miny, maxy = latitude\n",
    "minx, maxx = longitude\n",
    "bbox = box(minx, miny, maxx, maxy)\n",
    "geo = gpd.GeoDataFrame({'geometry': bbox}, index=[0], crs=from_epsg(4326))\n",
    "coords = getFeatures(geo)\n",
    "print(coords)"
   ]
  },
  {
   "cell_type": "code",
   "execution_count": 10,
   "metadata": {},
   "outputs": [
    {
     "name": "stdout",
     "output_type": "stream",
     "text": [
      "dict_values([27364, 26699, 26898, 27724, 28606, 28614, 27621, 28308, 27760, 25020, 24344, 24356, 26211, 26789, 25335, 25845, 26007, 26569, 26204, 26225, 25861])\n"
     ]
    }
   ],
   "source": [
    "#specify the country code\n",
    "cnt_code ='gha'\n",
    "\n",
    "#specify the years\n",
    "#time = ('2017-01-01', '2018-12-31')\n",
    "start_year = 2000\n",
    "end_year =2020\n",
    "years = range(start_year,end_year+1)\n",
    "pop_results={}\n",
    "\n",
    "#open and subset a population grid for each year; then calc the population for a given year for a given aoi.\n",
    "for year in years:\n",
    "    country_pop_file_name =f'ftp://ftp.worldpop.org.uk/GIS/Population/Global_2000_2020/{year}/{cnt_code.upper()}/{cnt_code.lower()}_ppp_{year}_UNadj.tif'\n",
    "    data = rasterio.open(country_pop_file_name)\n",
    "    with rasterio.open(country_pop_file_name) as src:\n",
    "        out_image, out_transform = rasterio.mask.mask(src, coords, nodata=0,crop=True)\n",
    "        out_meta = src.meta\n",
    "    pop_results[year]=int(out_image.sum())\n",
    "print(pop_results.values())\n"
   ]
  },
  {
   "cell_type": "markdown",
   "metadata": {},
   "source": [
    "From GIS\n",
    "\n",
    "2017:   26652\n",
    "\n",
    "2018:   26292\n",
    "\n",
    "From code:\n",
    "\n",
    "2017:  26569\n",
    "\n",
    "2018:  26204"
   ]
  },
  {
   "cell_type": "code",
   "execution_count": 13,
   "metadata": {},
   "outputs": [
    {
     "name": "stdout",
     "output_type": "stream",
     "text": [
      "dict_values([27364, 26699, 26898, 27724, 28606, 28614, 27621, 28308, 27760, 25020, 24344, 24356, 26211, 26789, 25335, 25845, 26007, 26569, 26204, 26225, 25861])\n"
     ]
    }
   ],
   "source": [
    "#the population values for 2000-2020. Interesting how it starts higher.\n",
    "print(pop_results.values())"
   ]
  },
  {
   "cell_type": "code",
   "execution_count": 14,
   "metadata": {},
   "outputs": [
    {
     "data": {
      "text/plain": [
       "dict_keys([2000, 2001, 2002, 2003, 2004, 2005, 2006, 2007, 2008, 2009, 2010, 2011, 2012, 2013, 2014, 2015, 2016, 2017, 2018, 2019, 2020])"
      ]
     },
     "execution_count": 14,
     "metadata": {},
     "output_type": "execute_result"
    }
   ],
   "source": [
    "pop_results.keys()"
   ]
  }
 ],
 "metadata": {
  "kernelspec": {
   "display_name": "Python 3",
   "language": "python",
   "name": "python3"
  },
  "language_info": {
   "codemirror_mode": {
    "name": "ipython",
    "version": 3
   },
   "file_extension": ".py",
   "mimetype": "text/x-python",
   "name": "python",
   "nbconvert_exporter": "python",
   "pygments_lexer": "ipython3",
   "version": "3.6.9"
  }
 },
 "nbformat": 4,
 "nbformat_minor": 4
}
